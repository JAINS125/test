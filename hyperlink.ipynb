{
 "cells": [
  {
   "cell_type": "code",
   "execution_count": 1,
   "metadata": {
    "colab": {
     "base_uri": "https://localhost:8080/"
    },
    "executionInfo": {
     "elapsed": 8290,
     "status": "ok",
     "timestamp": 1695933218230,
     "user": {
      "displayName": "H W",
      "userId": "17131512043694526442"
     },
     "user_tz": 240
    },
    "id": "HAOeIKr3erZ7",
    "outputId": "b94ebbad-cce1-4df1-9d5a-60887f5ab44f"
   },
   "outputs": [
    {
     "name": "stdout",
     "output_type": "stream",
     "text": [
      "Collecting python-docxNote: you may need to restart the kernel to use updated packages.\n",
      "\n",
      "  Downloading python-docx-0.8.11.tar.gz (5.6 MB)\n",
      "Requirement already satisfied: lxml>=2.3.2 in c:\\users\\sj30153\\anaconda3\\lib\\site-packages (from python-docx) (4.6.3)\n",
      "Building wheels for collected packages: python-docx"
     ]
    },
    {
     "name": "stderr",
     "output_type": "stream",
     "text": [
      "WARNING: Ignoring invalid distribution -umpy (c:\\users\\sj30153\\anaconda3\\lib\\site-packages)\n",
      "WARNING: Ignoring invalid distribution -umpy (c:\\users\\sj30153\\anaconda3\\lib\\site-packages)\n",
      "WARNING: Ignoring invalid distribution -umpy (c:\\users\\sj30153\\anaconda3\\lib\\site-packages)\n",
      "WARNING: Ignoring invalid distribution -umpy (c:\\users\\sj30153\\anaconda3\\lib\\site-packages)\n",
      "WARNING: Ignoring invalid distribution -umpy (c:\\users\\sj30153\\anaconda3\\lib\\site-packages)\n",
      "WARNING: Ignoring invalid distribution -umpy (c:\\users\\sj30153\\anaconda3\\lib\\site-packages)\n",
      "WARNING: Ignoring invalid distribution -umpy (c:\\users\\sj30153\\anaconda3\\lib\\site-packages)\n"
     ]
    },
    {
     "name": "stdout",
     "output_type": "stream",
     "text": [
      "\n",
      "  Building wheel for python-docx (setup.py): started\n",
      "  Building wheel for python-docx (setup.py): finished with status 'done'\n",
      "  Created wheel for python-docx: filename=python_docx-0.8.11-py3-none-any.whl size=184600 sha256=bb85df38ff9282cd7f7d501c813beafd1eae0973d614ff3c201c9a1c70f35408\n",
      "  Stored in directory: c:\\users\\sj30153\\appdata\\local\\pip\\cache\\wheels\\32\\b8\\b2\\c4c2b95765e615fe139b0b17b5ea7c0e1b6519b0a9ec8fb34d\n",
      "Successfully built python-docx\n",
      "Installing collected packages: python-docx\n",
      "Successfully installed python-docx-0.8.11\n"
     ]
    }
   ],
   "source": [
    "!pip install python-docx"
   ]
  },
  {
   "cell_type": "code",
   "execution_count": 2,
   "metadata": {
    "executionInfo": {
     "elapsed": 156,
     "status": "ok",
     "timestamp": 1695933319402,
     "user": {
      "displayName": "H W",
      "userId": "17131512043694526442"
     },
     "user_tz": 240
    },
    "id": "Ypnfvpdgfhfm"
   },
   "outputs": [],
   "source": [
    "import docx"
   ]
  },
  {
   "cell_type": "code",
   "execution_count": 3,
   "metadata": {
    "executionInfo": {
     "elapsed": 125,
     "status": "ok",
     "timestamp": 1695934030305,
     "user": {
      "displayName": "H W",
      "userId": "17131512043694526442"
     },
     "user_tz": 240
    },
    "id": "hNBewXziey9a"
   },
   "outputs": [],
   "source": [
    "def get_or_create_hyperlink_style(d):\n",
    "    \"\"\"If this document had no hyperlinks so far, the builtin\n",
    "       Hyperlink style will likely be missing and we need to add it.\n",
    "       There's no predefined value, different Word versions\n",
    "       define it differently.\n",
    "       This version is how Word 2019 defines it in the\n",
    "       default theme, excluding a theme reference.\n",
    "    \"\"\"\n",
    "    if \"Hyperlink\" not in d.styles:\n",
    "        if \"Default Character Font\" not in d.styles:\n",
    "            ds = d.styles.add_style(\"Default Character Font\",\n",
    "                                    docx.enum.style.WD_STYLE_TYPE.CHARACTER,\n",
    "                                    True)\n",
    "            ds.element.set(docx.oxml.shared.qn('w:default'), \"1\")\n",
    "            ds.priority = 1\n",
    "            ds.hidden = True\n",
    "            ds.unhide_when_used = True\n",
    "            del ds\n",
    "        hs = d.styles.add_style(\"Hyperlink\",\n",
    "                                docx.enum.style.WD_STYLE_TYPE.CHARACTER,\n",
    "                                True)\n",
    "        hs.base_style = d.styles[\"Default Character Font\"]\n",
    "        hs.unhide_when_used = True\n",
    "        hs.font.color.rgb = docx.shared.RGBColor(0x05, 0x63, 0xC1)\n",
    "        hs.font.underline = True\n",
    "        del hs\n",
    "\n",
    "    return \"Hyperlink\"\n",
    "\n",
    "def add_hyperlink(paragraph, link_to, text, is_external):\n",
    "    ''' Adds a hyperlink within a paragraph to an internal bookmark\n",
    "    or an external url '''\n",
    "\n",
    "    part = paragraph.part\n",
    "\n",
    "    hyperlink = docx.oxml.shared.OxmlElement('w:hyperlink')\n",
    "    if is_external:\n",
    "        r_id = part.relate_to(link_to,\n",
    "            docx.opc.constants.RELATIONSHIP_TYPE.HYPERLINK,\n",
    "            is_external= is_external)\n",
    "\n",
    "        hyperlink.set(docx.oxml.shared.qn('r:id'), r_id, )\n",
    "    else:\n",
    "        hyperlink.set(docx.oxml.shared.qn('w:anchor'), link_to, )\n",
    "\n",
    "    new_run = docx.oxml.shared.OxmlElement('w:r')\n",
    "    rPr = docx.oxml.shared.OxmlElement('w:rPr')\n",
    "\n",
    "    new_run.append(rPr)\n",
    "    new_run.text = text\n",
    "    new_run.style = get_or_create_hyperlink_style(part.document)\n",
    "\n",
    "    hyperlink.append(new_run)\n",
    "\n",
    "    paragraph._p.append(hyperlink)\n",
    "\n",
    "\n",
    "def add_bookmark(paragraph, bookmark_name):\n",
    "    ''' Adds a word bookmark to a run '''\n",
    "    run = paragraph.add_run()\n",
    "    tag = run._r\n",
    "    start = docx.oxml.shared.OxmlElement('w:bookmarkStart')\n",
    "    start.set(docx.oxml.ns.qn('w:id'), '0')\n",
    "    start.set(docx.oxml.ns.qn('w:name'), bookmark_name)\n",
    "    tag.append(start)\n",
    "\n",
    "    text = docx.oxml.OxmlElement('w:r')\n",
    "    tag.append(text)\n",
    "\n",
    "    end = docx.oxml.shared.OxmlElement('w:bookmarkEnd')\n",
    "    end.set(docx.oxml.ns.qn('w:id'), '0')\n",
    "    end.set(docx.oxml.ns.qn('w:name'), bookmark_name)\n",
    "    tag.append(end)\n",
    "\n",
    "    return run"
   ]
  },
  {
   "cell_type": "code",
   "execution_count": 4,
   "metadata": {
    "executionInfo": {
     "elapsed": 2,
     "status": "ok",
     "timestamp": 1695934032183,
     "user": {
      "displayName": "H W",
      "userId": "17131512043694526442"
     },
     "user_tz": 240
    },
    "id": "rYjWCfY6e4E0"
   },
   "outputs": [],
   "source": [
    "document = docx.Document()\n",
    "document.add_heading('section 1', 2)\n",
    "p1 = document.add_paragraph('Paragraph 1')\n",
    "\n",
    "add_hyperlink(p1, 'bookmark1', 'Table 14.1.1.1.1.1', False)\n",
    "\n",
    "p1.add_run('\\n\\n\\n\\n some text \\n\\n\\n\\n\\n some text')\n",
    "add_bookmark(p1, 'bookmark1')\n",
    "\n",
    "\n",
    "document.save('test.docx')"
   ]
  },
  {
   "cell_type": "code",
   "execution_count": 5,
   "metadata": {
    "colab": {
     "base_uri": "https://localhost:8080/"
    },
    "executionInfo": {
     "elapsed": 3,
     "status": "ok",
     "timestamp": 1695934034290,
     "user": {
      "displayName": "H W",
      "userId": "17131512043694526442"
     },
     "user_tz": 240
    },
    "id": "GNVJOdmkffaK",
    "outputId": "cbf9cf2f-9c67-4c6f-def3-5c67df00a5e0"
   },
   "outputs": [
    {
     "data": {
      "text/plain": [
       "['..ipynb_checkpoints',\n",
       " '.ipynb_checkpoints',\n",
       " '30153_FORM-16-FY22-23_FY 2022 - 2023..pdf',\n",
       " 'Citeline changes.msg',\n",
       " 'desktop.ini',\n",
       " 'embedded_data_page_1.png',\n",
       " 'github-recovery-codes.txt',\n",
       " 'hyperlink.ipynb',\n",
       " 'Study Report Body_New template.pdf',\n",
       " 'test.docx',\n",
       " 'test_embedded_data.docx',\n",
       " 'test_embedded_data.pdf',\n",
       " 'test_embedded_graph_img.docx',\n",
       " 'test_embedded_graph_img.pdf',\n",
       " 'ZS']"
      ]
     },
     "execution_count": 5,
     "metadata": {},
     "output_type": "execute_result"
    }
   ],
   "source": [
    "import os\n",
    "os.listdir()"
   ]
  },
  {
   "cell_type": "code",
   "execution_count": null,
   "metadata": {
    "id": "1w-YjDcYhViU"
   },
   "outputs": [],
   "source": []
  }
 ],
 "metadata": {
  "colab": {
   "authorship_tag": "ABX9TyNFJL5XgjN0IIRjy4rGwQoy",
   "provenance": []
  },
  "kernelspec": {
   "display_name": "Python 3",
   "language": "python",
   "name": "python3"
  },
  "language_info": {
   "codemirror_mode": {
    "name": "ipython",
    "version": 3
   },
   "file_extension": ".py",
   "mimetype": "text/x-python",
   "name": "python",
   "nbconvert_exporter": "python",
   "pygments_lexer": "ipython3",
   "version": "3.8.8"
  }
 },
 "nbformat": 4,
 "nbformat_minor": 1
}
